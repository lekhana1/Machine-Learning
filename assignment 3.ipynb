{
 "cells": [
  {
   "cell_type": "code",
   "execution_count": 33,
   "metadata": {},
   "outputs": [
    {
     "name": "stderr",
     "output_type": "stream",
     "text": [
      "/home/quantiphi/anaconda3/lib/python3.7/site-packages/pandas/core/indexing.py:190: SettingWithCopyWarning: \n",
      "A value is trying to be set on a copy of a slice from a DataFrame\n",
      "\n",
      "See the caveats in the documentation: http://pandas.pydata.org/pandas-docs/stable/indexing.html#indexing-view-versus-copy\n",
      "  self._setitem_with_indexer(indexer, value)\n",
      "/home/quantiphi/anaconda3/lib/python3.7/site-packages/sklearn/model_selection/_split.py:2053: FutureWarning: You should specify a value for 'cv' instead of relying on the default value. The default value will change from 3 to 5 in version 0.22.\n",
      "  warnings.warn(CV_WARNING, FutureWarning)\n",
      "/home/quantiphi/anaconda3/lib/python3.7/site-packages/sklearn/model_selection/_search.py:841: DeprecationWarning: The default of the `iid` parameter will change from True to False in version 0.22 and will be removed in 0.24. This will change numeric results when test-set sizes are unequal.\n",
      "  DeprecationWarning)\n"
     ]
    },
    {
     "name": "stdout",
     "output_type": "stream",
     "text": [
      "68.25396825396825\n",
      "66.66666666666666\n",
      "79.36507936507937\n",
      "77.77777777777779\n",
      "Best Hyper Parameters:\n",
      " {'min_samples_leaf': 1, 'min_samples_split': 13, 'random_state': 100}\n",
      "68.25396825396825\n"
     ]
    },
    {
     "name": "stderr",
     "output_type": "stream",
     "text": [
      "/home/quantiphi/anaconda3/lib/python3.7/site-packages/sklearn/model_selection/_search.py:841: DeprecationWarning: The default of the `iid` parameter will change from True to False in version 0.22 and will be removed in 0.24. This will change numeric results when test-set sizes are unequal.\n",
      "  DeprecationWarning)\n"
     ]
    },
    {
     "name": "stdout",
     "output_type": "stream",
     "text": [
      "77.77777777777779\n",
      "Best Hyper Parameters:\n",
      " {'C': 10, 'kernel': 'rbf'}\n",
      "84.12698412698413\n"
     ]
    },
    {
     "name": "stderr",
     "output_type": "stream",
     "text": [
      "/home/quantiphi/anaconda3/lib/python3.7/site-packages/sklearn/model_selection/_split.py:2053: FutureWarning: You should specify a value for 'cv' instead of relying on the default value. The default value will change from 3 to 5 in version 0.22.\n",
      "  warnings.warn(CV_WARNING, FutureWarning)\n",
      "/home/quantiphi/anaconda3/lib/python3.7/site-packages/sklearn/model_selection/_search.py:841: DeprecationWarning: The default of the `iid` parameter will change from True to False in version 0.22 and will be removed in 0.24. This will change numeric results when test-set sizes are unequal.\n",
      "  DeprecationWarning)\n"
     ]
    }
   ],
   "source": [
    "import numpy as np\n",
    "import matplotlib.pyplot as plt\n",
    "import pandas as pd\n",
    "from sklearn.ensemble import *\n",
    "from sklearn.model_selection import train_test_split\n",
    "from sklearn.tree import DecisionTreeClassifier\n",
    "from sklearn.metrics import accuracy_score\n",
    "from sklearn import svm\n",
    "from sklearn.svm import SVC\n",
    "from sklearn import tree\n",
    "df = pd.read_csv(\"Downloads/sonar2.txt\",delimiter=',',header =None)\n",
    "X=df.iloc[:,0:59]\n",
    "Y=df.iloc[:,-1]\n",
    "Y.iloc[:97]='0'\n",
    "Y.iloc[97:208]='1'\n",
    "#SPlitting of DataSet\n",
    "X_train, X_test, y_train, y_test = train_test_split( X, Y, test_size = 0.3, random_state = 100)\n",
    "#Decision Tree using gini index\n",
    "clf_gini = DecisionTreeClassifier(criterion = \"gini\", random_state = 100)\n",
    "clf_gini.fit(X_train, y_train)\n",
    "y_pred=clf_gini.predict(X_test)\n",
    "k= accuracy_score(y_test,y_pred)*100\n",
    "print(k)\n",
    "#Decision Tree using entropy\n",
    "clf_entropy = DecisionTreeClassifier(criterion = \"entropy\", random_state = 100)\n",
    "clf_entropy.fit(X_train, y_train)\n",
    "y_pred=clf_entropy.predict(X_test)\n",
    "l=accuracy_score(y_test,y_pred)*100\n",
    "print(l)\n",
    "#Randomforest classifier\n",
    "clf_random = RandomForestClassifier(n_estimators=100,max_depth=2,random_state=40)\n",
    "clf_random.fit(X_train,y_train)\n",
    "y_pred=clf_random.predict(X_test)\n",
    "m=accuracy_score(y_test,y_pred)*100\n",
    "print(m)\n",
    "#SVC classifier\n",
    "clf_svm= svm.SVC(gamma='scale')\n",
    "clf_svm.fit(X_train,y_train)\n",
    "y_pred = clf_svm.predict(X_test)\n",
    "n=accuracy_score(y_test,y_pred)*100\n",
    "print(n)\n",
    "#Hyperparameter tuning with decision tree and entropy\n",
    "from sklearn.model_selection import GridSearchCV\n",
    "params = {'min_samples_split': [13], \n",
    "          'min_samples_leaf': [1],\n",
    "          'random_state':[100]}\n",
    "model1 = GridSearchCV(clf_entropy, param_grid=params, n_jobs=-1)\n",
    "model1.fit(X_train,y_train)\n",
    "print(\"Best Hyper Parameters:\\n\",model1.best_params_)\n",
    "y_pred=model1.predict(X_test)\n",
    "o=accuracy_score(y_test,y_pred)*100\n",
    "print(o)\n",
    "#Hyperparameter tuning with random forest \n",
    "params = {'criterion':['gini','entropy'],'n_estimators':[10,15,20,25,30],'min_samples_leaf':[1,2,3],\n",
    "          'min_samples_split':[3,4,5,6,7], \n",
    "          'random_state':[40],\n",
    "          'n_jobs':[-1]}\n",
    "\n",
    "model2 = GridSearchCV(clf_random, param_grid=params, n_jobs=-1,cv=3)\n",
    "model2.fit(X_train,y_train)\n",
    "y_pred=model2.predict(X_test)\n",
    "p=accuracy_score(y_test,y_pred)*100\n",
    "print(p)\n",
    "#yperparameter tuning with SVC\n",
    "params = {'C': [6,7,8,9,10,11,12], \n",
    "          'kernel': ['linear','rbf']}\n",
    "model3 = GridSearchCV(clf_svm, param_grid=params, n_jobs=-1)\n",
    "model3.fit(X_train,y_train)\n",
    "print(\"Best Hyper Parameters:\\n\",model3.best_params_)\n",
    "y_pred=model3.predict(X_test)\n",
    "q=accuracy_score(y_test,y_pred)*100\n",
    "print(q)\n",
    "\n"
   ]
  },
  {
   "cell_type": "code",
   "execution_count": null,
   "metadata": {},
   "outputs": [],
   "source": []
  },
  {
   "cell_type": "code",
   "execution_count": null,
   "metadata": {},
   "outputs": [],
   "source": []
  }
 ],
 "metadata": {
  "kernelspec": {
   "display_name": "Python 3",
   "language": "python",
   "name": "python3"
  },
  "language_info": {
   "codemirror_mode": {
    "name": "ipython",
    "version": 3
   },
   "file_extension": ".py",
   "mimetype": "text/x-python",
   "name": "python",
   "nbconvert_exporter": "python",
   "pygments_lexer": "ipython3",
   "version": "3.7.3"
  }
 },
 "nbformat": 4,
 "nbformat_minor": 2
}
